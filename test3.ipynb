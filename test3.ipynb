{
 "cells": [
  {
   "cell_type": "code",
   "execution_count": 7,
   "metadata": {},
   "outputs": [],
   "source": [
    "from ultralytics import YOLOWorld\n",
    "from ultralytics.engine.results import Boxes\n"
   ]
  },
  {
   "cell_type": "code",
   "execution_count": 9,
   "metadata": {},
   "outputs": [],
   "source": [
    "from src.utils import save_detection_results"
   ]
  },
  {
   "cell_type": "code",
   "execution_count": 10,
   "metadata": {},
   "outputs": [],
   "source": [
    "1 # Initialize a YOLO-World model\n",
    "model = YOLOWorld(\"yolov8s-world.pt\")"
   ]
  },
  {
   "cell_type": "code",
   "execution_count": 11,
   "metadata": {},
   "outputs": [],
   "source": [
    "# Define custom classes\n",
    "model.set_classes([\"bus\"]) # <--------- Change this to the class you want to detect"
   ]
  },
  {
   "cell_type": "code",
   "execution_count": null,
   "metadata": {},
   "outputs": [
    {
     "name": "stdout",
     "output_type": "stream",
     "text": [
      "\n",
      "image 1/1 d:\\05. AI\\MODULE 7\\Object-detection---Open-Vocab-Detection\\samples\\bus.jpg: 640x480 1 bus, 135.1ms\n",
      "Speed: 2.0ms preprocess, 135.1ms inference, 0.0ms postprocess per image at shape (1, 3, 640, 480)\n"
     ]
    }
   ],
   "source": [
    "# Execute prediction on an image\n",
    "results: Boxes = model.predict(\"samples/image.jpg\")"
   ]
  },
  {
   "cell_type": "code",
   "execution_count": 13,
   "metadata": {},
   "outputs": [
    {
     "name": "stdout",
     "output_type": "stream",
     "text": [
      "Image saved to D:\\05. AI\\MODULE 7\\Object-detection---Open-Vocab-Detection\\run\\img_90bf420c-3585-4c53-9bf9-9946de2b9ed1.jpg\n"
     ]
    },
    {
     "data": {
      "text/plain": [
       "['D:\\\\05. AI\\\\MODULE 7\\\\Object-detection---Open-Vocab-Detection\\\\run\\\\img_90bf420c-3585-4c53-9bf9-9946de2b9ed1.jpg']"
      ]
     },
     "execution_count": 13,
     "metadata": {},
     "output_type": "execute_result"
    }
   ],
   "source": [
    "# Save detection results as images\n",
    "save_detection_results(results)"
   ]
  },
  {
   "cell_type": "code",
   "execution_count": null,
   "metadata": {},
   "outputs": [],
   "source": []
  }
 ],
 "metadata": {
  "kernelspec": {
   "display_name": "Python 3",
   "language": "python",
   "name": "python3"
  },
  "language_info": {
   "codemirror_mode": {
    "name": "ipython",
    "version": 3
   },
   "file_extension": ".py",
   "mimetype": "text/x-python",
   "name": "python",
   "nbconvert_exporter": "python",
   "pygments_lexer": "ipython3",
   "version": "3.12.8"
  }
 },
 "nbformat": 4,
 "nbformat_minor": 2
}

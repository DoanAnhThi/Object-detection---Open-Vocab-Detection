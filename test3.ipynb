{
 "cells": [
  {
   "cell_type": "code",
   "execution_count": 1,
   "metadata": {},
   "outputs": [],
   "source": [
    "from ultralytics import YOLOWorld\n",
    "from ultralytics.engine.results import Boxes\n"
   ]
  },
  {
   "cell_type": "code",
   "execution_count": 2,
   "metadata": {},
   "outputs": [],
   "source": [
    "from src.utils import save_detection_results"
   ]
  },
  {
   "cell_type": "code",
   "execution_count": 3,
   "metadata": {},
   "outputs": [],
   "source": [
    "1 # Initialize a YOLO-World model\n",
    "model = YOLOWorld(\"yolov8s-world.pt\")"
   ]
  },
  {
   "cell_type": "code",
   "execution_count": 7,
   "metadata": {},
   "outputs": [],
   "source": [
    "# Define custom classes\n",
    "model.set_classes([\"motor-bike\"]) # <--------- Change this to the class you want to detect"
   ]
  },
  {
   "cell_type": "code",
   "execution_count": 8,
   "metadata": {},
   "outputs": [
    {
     "name": "stdout",
     "output_type": "stream",
     "text": [
      "\n",
      "image 1/1 d:\\05. AI\\MODULE 7\\Object-detection---Open-Vocab-Detection\\samples\\z6281022576957_5321fe20211f785040afe94465398a56.jpg: 640x480 1 motor-bike, 352.4ms\n",
      "Speed: 5.0ms preprocess, 352.4ms inference, 2.1ms postprocess per image at shape (1, 3, 640, 480)\n"
     ]
    }
   ],
   "source": [
    "# Execute prediction on an image\n",
    "results: Boxes = model.predict(\"samples/z6281022576957_5321fe20211f785040afe94465398a56.jpg\")"
   ]
  },
  {
   "cell_type": "code",
   "execution_count": 9,
   "metadata": {},
   "outputs": [
    {
     "name": "stdout",
     "output_type": "stream",
     "text": [
      "Image saved to D:\\05. AI\\MODULE 7\\Object-detection---Open-Vocab-Detection\\run\\img_c1c17399-4581-4c61-befe-c2c259b4be99.jpg\n"
     ]
    },
    {
     "data": {
      "text/plain": [
       "['D:\\\\05. AI\\\\MODULE 7\\\\Object-detection---Open-Vocab-Detection\\\\run\\\\img_c1c17399-4581-4c61-befe-c2c259b4be99.jpg']"
      ]
     },
     "execution_count": 9,
     "metadata": {},
     "output_type": "execute_result"
    }
   ],
   "source": [
    "# Save detection results as images\n",
    "save_detection_results(results)"
   ]
  },
  {
   "cell_type": "code",
   "execution_count": null,
   "metadata": {},
   "outputs": [],
   "source": []
  }
 ],
 "metadata": {
  "kernelspec": {
   "display_name": "Python 3",
   "language": "python",
   "name": "python3"
  },
  "language_info": {
   "codemirror_mode": {
    "name": "ipython",
    "version": 3
   },
   "file_extension": ".py",
   "mimetype": "text/x-python",
   "name": "python",
   "nbconvert_exporter": "python",
   "pygments_lexer": "ipython3",
   "version": "3.12.8"
  }
 },
 "nbformat": 4,
 "nbformat_minor": 2
}
